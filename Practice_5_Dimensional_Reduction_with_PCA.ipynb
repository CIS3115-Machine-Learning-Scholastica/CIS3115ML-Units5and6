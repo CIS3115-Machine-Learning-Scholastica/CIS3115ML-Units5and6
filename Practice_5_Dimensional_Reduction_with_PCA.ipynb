{
  "nbformat": 4,
  "nbformat_minor": 0,
  "metadata": {
    "colab": {
      "name": "Practice 5: Dimensional Reduction with PCA.ipynb",
      "version": "0.3.2",
      "provenance": [],
      "collapsed_sections": []
    },
    "kernelspec": {
      "name": "python3",
      "display_name": "Python 3"
    }
  },
  "cells": [
    {
      "metadata": {
        "id": "UcP0RHTjWP1q",
        "colab_type": "text"
      },
      "cell_type": "markdown",
      "source": [
        "# Practice 5: Dimensional Reduction with PCA\n",
        "\n",
        "Use this notebook as the starting point for the Practice activities.\n",
        "\n",
        "Student Name:    **[  Put your Name Here ]**\n",
        "\n",
        "**Video Walkthough by Tom**"
      ]
    },
    {
      "metadata": {
        "id": "KmZ4LSJ7XLR9",
        "colab_type": "text"
      },
      "cell_type": "markdown",
      "source": [
        "# Section 0\n",
        "\n",
        "=== *You must run this section to set up things for any of the sections below * ===\n",
        "### Setting up Python tools\n",
        "\n",
        "\n",
        "\n",
        "We'll use three libraries for this tutorial: \n",
        "- [pandas](http://pandas.pydata.org/) : dataframes for spreadsheet-like data analysis, reading CSV files, time series\n",
        "- [numpy](http://www.numpy.org/) : for multidimensional data and linear algebra tools\n",
        "- [matplotlib](http://matplotlib.org/) : Simple plotting and graphing\n",
        "- [seaborn](http://stanford.edu/~mwaskom/software/seaborn/) : more advanced graphing\n",
        "-  [scikit-learn](https://scikit-learn.org/stable/) : provides many machine learning algorithms and tools to training and test.\n",
        "\n",
        "\n"
      ]
    },
    {
      "metadata": {
        "id": "RHAUKyWlWQ9L",
        "colab_type": "code",
        "colab": {}
      },
      "cell_type": "code",
      "source": [
        "# First, we'll import pandas and numpy, two data processing libraries\n",
        "import pandas as pd\n",
        "import numpy as np\n",
        "\n",
        "# We'll also import seaborn and matplot, twp Python graphing libraries\n",
        "import seaborn as sns\n",
        "import matplotlib.pyplot as plt\n",
        "# Import the needed sklearn libraries\n",
        "from sklearn.preprocessing import MinMaxScaler, StandardScaler\n",
        "from sklearn import datasets\n",
        "from sklearn.model_selection import train_test_split\n",
        "from sklearn.neighbors import KNeighborsClassifier\n",
        "from sklearn.svm import SVC\n",
        "from sklearn.decomposition import PCA\n",
        "from sklearn.preprocessing import LabelEncoder\n",
        "\n",
        "# We will turn off some warns in this notebook to make it easier to read for new students\n",
        "import warnings\n",
        "warnings.filterwarnings('ignore')"
      ],
      "execution_count": 0,
      "outputs": []
    },
    {
      "metadata": {
        "id": "Vz1Qt8p_U4g2",
        "colab_type": "text"
      },
      "cell_type": "markdown",
      "source": [
        "## The data sets\n",
        "We will work with the following data sets:\n",
        "- Section I: Iris flower dataset from Practice 2 & 4\n",
        "- Section II: Breast cancer data from Project 1 & 2\n",
        "- Section III: [MNIST](https://en.wikipedia.org/wiki/MNIST_database) handwritten digits. This is our first image data set. Each image is 16x16 grayscale pixels. \n",
        "<p>\n",
        "Here is a sample of the images.\n",
        "  \n",
        "  ![alt text](https://upload.wikimedia.org/wikipedia/commons/2/27/MnistExamples.png)"
      ]
    },
    {
      "metadata": {
        "id": "qllYJsYUU5mT",
        "colab_type": "text"
      },
      "cell_type": "markdown",
      "source": [
        "# Section I\n",
        "=== *You must run Section 0 before this section* ===\n",
        "### Principal Component Analysis (PCA) and the Iris flower data set\n",
        "\n",
        "Remember the iris flower data set has four features for each flower. We can use PCA to reduce this to two features--this is called **dimensonal reduction**.\n",
        "\n"
      ]
    },
    {
      "metadata": {
        "id": "Zw-0pDmtWRAN",
        "colab_type": "code",
        "colab": {}
      },
      "cell_type": "code",
      "source": [
        "# Read in the iris data file from stored in a raw file in GitHub\n",
        "url_iris = 'https://raw.githubusercontent.com/CIS3115-Machine-Learning-Scholastica/CIS3115ML-Units3and4/master/Iris.csv'\n",
        "iris = pd.read_csv(url_iris)\n",
        "# Set the Id column as the index since it is unique for each flower\n",
        "iris.set_index('Id', inplace=True)"
      ],
      "execution_count": 0,
      "outputs": []
    },
    {
      "metadata": {
        "id": "1OtgWe9yWRDZ",
        "colab_type": "code",
        "outputId": "5339e5df-3487-492a-f0de-ddf248ae5dc6",
        "colab": {
          "base_uri": "https://localhost:8080/",
          "height": 335
        }
      },
      "cell_type": "code",
      "source": [
        "# Display the first 5 flowers to make sure the data was read in\n",
        "iris.head(5)"
      ],
      "execution_count": 3,
      "outputs": [
        {
          "output_type": "execute_result",
          "data": {
            "text/html": [
              "<div>\n",
              "<style scoped>\n",
              "    .dataframe tbody tr th:only-of-type {\n",
              "        vertical-align: middle;\n",
              "    }\n",
              "\n",
              "    .dataframe tbody tr th {\n",
              "        vertical-align: top;\n",
              "    }\n",
              "\n",
              "    .dataframe thead th {\n",
              "        text-align: right;\n",
              "    }\n",
              "</style>\n",
              "<table border=\"1\" class=\"dataframe\">\n",
              "  <thead>\n",
              "    <tr style=\"text-align: right;\">\n",
              "      <th></th>\n",
              "      <th>SepalLengthCm</th>\n",
              "      <th>SepalWidthCm</th>\n",
              "      <th>PetalLengthCm</th>\n",
              "      <th>PetalWidthCm</th>\n",
              "      <th>Species</th>\n",
              "    </tr>\n",
              "    <tr>\n",
              "      <th>Id</th>\n",
              "      <th></th>\n",
              "      <th></th>\n",
              "      <th></th>\n",
              "      <th></th>\n",
              "      <th></th>\n",
              "    </tr>\n",
              "  </thead>\n",
              "  <tbody>\n",
              "    <tr>\n",
              "      <th>1</th>\n",
              "      <td>5.1</td>\n",
              "      <td>3.5</td>\n",
              "      <td>1.4</td>\n",
              "      <td>0.2</td>\n",
              "      <td>Iris-setosa</td>\n",
              "    </tr>\n",
              "    <tr>\n",
              "      <th>2</th>\n",
              "      <td>4.9</td>\n",
              "      <td>3.0</td>\n",
              "      <td>1.4</td>\n",
              "      <td>0.2</td>\n",
              "      <td>Iris-setosa</td>\n",
              "    </tr>\n",
              "    <tr>\n",
              "      <th>3</th>\n",
              "      <td>4.7</td>\n",
              "      <td>3.2</td>\n",
              "      <td>1.3</td>\n",
              "      <td>0.2</td>\n",
              "      <td>Iris-setosa</td>\n",
              "    </tr>\n",
              "    <tr>\n",
              "      <th>4</th>\n",
              "      <td>4.6</td>\n",
              "      <td>3.1</td>\n",
              "      <td>1.5</td>\n",
              "      <td>0.2</td>\n",
              "      <td>Iris-setosa</td>\n",
              "    </tr>\n",
              "    <tr>\n",
              "      <th>5</th>\n",
              "      <td>5.0</td>\n",
              "      <td>3.6</td>\n",
              "      <td>1.4</td>\n",
              "      <td>0.2</td>\n",
              "      <td>Iris-setosa</td>\n",
              "    </tr>\n",
              "  </tbody>\n",
              "</table>\n",
              "</div>"
            ],
            "text/plain": [
              "    SepalLengthCm  SepalWidthCm  PetalLengthCm  PetalWidthCm      Species\n",
              "Id                                                                       \n",
              "1             5.1           3.5            1.4           0.2  Iris-setosa\n",
              "2             4.9           3.0            1.4           0.2  Iris-setosa\n",
              "3             4.7           3.2            1.3           0.2  Iris-setosa\n",
              "4             4.6           3.1            1.5           0.2  Iris-setosa\n",
              "5             5.0           3.6            1.4           0.2  Iris-setosa"
            ]
          },
          "metadata": {
            "tags": []
          },
          "execution_count": 3
        }
      ]
    },
    {
      "metadata": {
        "id": "estP1rJqjiqL",
        "colab_type": "text"
      },
      "cell_type": "markdown",
      "source": [
        "### Set up the input and output \n",
        "In the past we have called the input **\"X\"** and the output **\"y\"** but when working with multiple datasets we will use **\"Xiris\"** for the input features for the iris flower dataset. Likewise we will use **\"yiris\"** for the output categories for the iris flowers.\n",
        "\n",
        "Also, for the graphs below we need numerica categories along with the text categories like \"Iris-setosa\" so the code below creates a new category named **\"species_code\"** which is a category number for each flower."
      ]
    },
    {
      "metadata": {
        "id": "OqLNbqIzch1o",
        "colab_type": "code",
        "colab": {}
      },
      "cell_type": "code",
      "source": [
        "feature_columns = ['SepalLengthCm', 'SepalWidthCm', 'PetalLengthCm','PetalWidthCm']\n",
        "Xiris = iris[feature_columns].values\n",
        "yiris = iris['Species'].values\n",
        "# We need the species labels converted to number for one of the graphs. Use LabelEncoder for this\n",
        "lb_make = LabelEncoder()\n",
        "species_code = lb_make.fit_transform(iris[\"Species\"])"
      ],
      "execution_count": 0,
      "outputs": []
    },
    {
      "metadata": {
        "id": "hL9TP4GBkqfs",
        "colab_type": "text"
      },
      "cell_type": "markdown",
      "source": [
        "### Principal Component Analysis (PCA)\n",
        "Principal Component Analysis (PCA) is built into the scikit learn library and was imported above using\n",
        "```\n",
        "from sklearn.decomposition import PCA\n",
        "```\n",
        "To use PCA, we just have to call it and pass it the number of features we want in the results using the \"n_components\" parameter. So this line creates a PCA system to reduce the data down to just 2 dimensions or components.\n",
        "\n",
        "```\n",
        "pca2 = PCA(n_components=2)\n",
        "```\n",
        "Once the PCA system is created and named \"pca2\" we can us it to transform the iris input features. This will reduce the 4 features down to 2 components. \n",
        "\n",
        "```\n",
        "XirisPCA2 = pca2.fit_transform(Xiris)\n",
        "```\n",
        "The new inputs are named \"XirisPCA2\"\n",
        "\n",
        "\n",
        "\n",
        "\n",
        "\n"
      ]
    },
    {
      "metadata": {
        "id": "_dDDMlkIPtnD",
        "colab_type": "code",
        "colab": {}
      },
      "cell_type": "code",
      "source": [
        "# Use Pincipal Component Analysis (PCA) to reduce the data to two dimensions using n_components=2\n",
        "pca2 = PCA(n_components=2)\n",
        "XirisPCA2 = pca2.fit_transform(Xiris)\n"
      ],
      "execution_count": 0,
      "outputs": []
    },
    {
      "metadata": {
        "id": "XTszMKsRmO5L",
        "colab_type": "text"
      },
      "cell_type": "markdown",
      "source": [
        "### Plot the original data\n",
        "This plot shows the two of the four features in the original data set."
      ]
    },
    {
      "metadata": {
        "id": "oRfDA6gj-HyV",
        "colab_type": "code",
        "outputId": "ee847cf4-d883-4c32-d128-90254683509a",
        "colab": {
          "base_uri": "https://localhost:8080/",
          "height": 385
        }
      },
      "cell_type": "code",
      "source": [
        "# Plot two feactures from the original iris dataset\n",
        "plt.scatter(Xiris[:,0], Xiris[:,1], c=species_code, cmap=\"Set1\")"
      ],
      "execution_count": 6,
      "outputs": [
        {
          "output_type": "execute_result",
          "data": {
            "text/plain": [
              "<matplotlib.collections.PathCollection at 0x7f346fe45080>"
            ]
          },
          "metadata": {
            "tags": []
          },
          "execution_count": 6
        },
        {
          "output_type": "display_data",
          "data": {
            "image/png": "[encoded data removed]",
            "text/plain": [
              "<Figure size 576x396 with 1 Axes>"
            ]
          },
          "metadata": {
            "tags": []
          }
        }
      ]
    },
    {
      "metadata": {
        "id": "b_gCme3Mmbgz",
        "colab_type": "text"
      },
      "cell_type": "markdown",
      "source": [
        "### Plot the PCA components\n",
        "This plot shows the data using the two components from the PCA system above."
      ]
    },
    {
      "metadata": {
        "id": "Sk6n3-ETP3kt",
        "colab_type": "code",
        "outputId": "3537a808-6aef-4485-cd32-6a42d3e3f344",
        "colab": {
          "base_uri": "https://localhost:8080/",
          "height": 387
        }
      },
      "cell_type": "code",
      "source": [
        "# Plot the PCA1 and PCA2 from the iris dataset\n",
        "plt.scatter(XirisPCA2[:,0], XirisPCA2[:,1], c=species_code, cmap=\"Set1\")\n"
      ],
      "execution_count": 7,
      "outputs": [
        {
          "output_type": "execute_result",
          "data": {
            "text/plain": [
              "<matplotlib.collections.PathCollection at 0x7f346ddd7630>"
            ]
          },
          "metadata": {
            "tags": []
          },
          "execution_count": 7
        },
        {
          "output_type": "display_data",
          "data": {
            "image/png": "[encoded data removed]",
            "text/plain": [
              "<Figure size 576x396 with 1 Axes>"
            ]
          },
          "metadata": {
            "tags": []
          }
        }
      ]
    },
    {
      "metadata": {
        "id": "w8tPoQVsm1Nc",
        "colab_type": "text"
      },
      "cell_type": "markdown",
      "source": [
        "## Task 1: Describe PCA\n",
        "- Question 1: Find a short description of what PCA does and paste it here along with the URL of the source.\n",
        "- Question 2: Describe the two visualizations above, one showing the original data and one showing the PCA version of the data. Which data set would be best for categorizing the data?"
      ]
    },
    {
      "metadata": {
        "id": "k7SCGnzo_bzK",
        "colab_type": "text"
      },
      "cell_type": "markdown",
      "source": [
        "# Section II\n",
        "=== *You must run Section 0 before this section* ===\n",
        "### PCA with the cancer dataset\n",
        "The following code loads in the breast cancer dataset"
      ]
    },
    {
      "metadata": {
        "id": "5l2xF4cdVxuZ",
        "colab_type": "code",
        "colab": {}
      },
      "cell_type": "code",
      "source": [
        " \n",
        "  # Read in the breast cancer data file from stored in a raw file in GitHub\n",
        "url_bc = 'https://raw.githubusercontent.com/CIS3115-Machine-Learning-Scholastica/CIS3115ML-Units3and4/master/breast-cancer-wisconsin-data.csv'\n",
        "\n",
        "cancer = pd.read_csv(url_bc)\n",
        "# Set the Id column as the index since it is unique for each pati\n",
        "cancer.set_index('id', inplace=True)"
      ],
      "execution_count": 0,
      "outputs": []
    },
    {
      "metadata": {
        "id": "gmhyyINeV_YW",
        "colab_type": "code",
        "outputId": "3a810a4d-aff7-47ef-9c13-a86b93faae56",
        "colab": {
          "base_uri": "https://localhost:8080/",
          "height": 364
        }
      },
      "cell_type": "code",
      "source": [
        "# Display the first 5 rows at the start, or head, of the dataframe\n",
        "cancer.head(5)"
      ],
      "execution_count": 9,
      "outputs": [
        {
          "output_type": "execute_result",
          "data": {
            "text/html": [
              "<div>\n",
              "<style scoped>\n",
              "    .dataframe tbody tr th:only-of-type {\n",
              "        vertical-align: middle;\n",
              "    }\n",
              "\n",
              "    .dataframe tbody tr th {\n",
              "        vertical-align: top;\n",
              "    }\n",
              "\n",
              "    .dataframe thead th {\n",
              "        text-align: right;\n",
              "    }\n",
              "</style>\n",
              "<table border=\"1\" class=\"dataframe\">\n",
              "  <thead>\n",
              "    <tr style=\"text-align: right;\">\n",
              "      <th></th>\n",
              "      <th>diagnosis</th>\n",
              "      <th>radius_mean</th>\n",
              "      <th>texture_mean</th>\n",
              "      <th>perimeter_mean</th>\n",
              "      <th>area_mean</th>\n",
              "      <th>smoothness_mean</th>\n",
              "      <th>compactness_mean</th>\n",
              "      <th>concavity_mean</th>\n",
              "      <th>concave points_mean</th>\n",
              "      <th>symmetry_mean</th>\n",
              "      <th>...</th>\n",
              "      <th>texture_worst</th>\n",
              "      <th>perimeter_worst</th>\n",
              "      <th>area_worst</th>\n",
              "      <th>smoothness_worst</th>\n",
              "      <th>compactness_worst</th>\n",
              "      <th>concavity_worst</th>\n",
              "      <th>concave points_worst</th>\n",
              "      <th>symmetry_worst</th>\n",
              "      <th>fractal_dimension_worst</th>\n",
              "      <th>Unnamed: 32</th>\n",
              "    </tr>\n",
              "    <tr>\n",
              "      <th>id</th>\n",
              "      <th></th>\n",
              "      <th></th>\n",
              "      <th></th>\n",
              "      <th></th>\n",
              "      <th></th>\n",
              "      <th></th>\n",
              "      <th></th>\n",
              "      <th></th>\n",
              "      <th></th>\n",
              "      <th></th>\n",
              "      <th></th>\n",
              "      <th></th>\n",
              "      <th></th>\n",
              "      <th></th>\n",
              "      <th></th>\n",
              "      <th></th>\n",
              "      <th></th>\n",
              "      <th></th>\n",
              "      <th></th>\n",
              "      <th></th>\n",
              "      <th></th>\n",
              "    </tr>\n",
              "  </thead>\n",
              "  <tbody>\n",
              "    <tr>\n",
              "      <th>842302</th>\n",
              "      <td>M</td>\n",
              "      <td>17.99</td>\n",
              "      <td>10.38</td>\n",
              "      <td>122.80</td>\n",
              "      <td>1001.0</td>\n",
              "      <td>0.11840</td>\n",
              "      <td>0.27760</td>\n",
              "      <td>0.3001</td>\n",
              "      <td>0.14710</td>\n",
              "      <td>0.2419</td>\n",
              "      <td>...</td>\n",
              "      <td>17.33</td>\n",
              "      <td>184.60</td>\n",
              "      <td>2019.0</td>\n",
              "      <td>0.1622</td>\n",
              "      <td>0.6656</td>\n",
              "      <td>0.7119</td>\n",
              "      <td>0.2654</td>\n",
              "      <td>0.4601</td>\n",
              "      <td>0.11890</td>\n",
              "      <td>NaN</td>\n",
              "    </tr>\n",
              "    <tr>\n",
              "      <th>842517</th>\n",
              "      <td>M</td>\n",
              "      <td>20.57</td>\n",
              "      <td>17.77</td>\n",
              "      <td>132.90</td>\n",
              "      <td>1326.0</td>\n",
              "      <td>0.08474</td>\n",
              "      <td>0.07864</td>\n",
              "      <td>0.0869</td>\n",
              "      <td>0.07017</td>\n",
              "      <td>0.1812</td>\n",
              "      <td>...</td>\n",
              "      <td>23.41</td>\n",
              "      <td>158.80</td>\n",
              "      <td>1956.0</td>\n",
              "      <td>0.1238</td>\n",
              "      <td>0.1866</td>\n",
              "      <td>0.2416</td>\n",
              "      <td>0.1860</td>\n",
              "      <td>0.2750</td>\n",
              "      <td>0.08902</td>\n",
              "      <td>NaN</td>\n",
              "    </tr>\n",
              "    <tr>\n",
              "      <th>84300903</th>\n",
              "      <td>M</td>\n",
              "      <td>19.69</td>\n",
              "      <td>21.25</td>\n",
              "      <td>130.00</td>\n",
              "      <td>1203.0</td>\n",
              "      <td>0.10960</td>\n",
              "      <td>0.15990</td>\n",
              "      <td>0.1974</td>\n",
              "      <td>0.12790</td>\n",
              "      <td>0.2069</td>\n",
              "      <td>...</td>\n",
              "      <td>25.53</td>\n",
              "      <td>152.50</td>\n",
              "      <td>1709.0</td>\n",
              "      <td>0.1444</td>\n",
              "      <td>0.4245</td>\n",
              "      <td>0.4504</td>\n",
              "      <td>0.2430</td>\n",
              "      <td>0.3613</td>\n",
              "      <td>0.08758</td>\n",
              "      <td>NaN</td>\n",
              "    </tr>\n",
              "    <tr>\n",
              "      <th>84348301</th>\n",
              "      <td>M</td>\n",
              "      <td>11.42</td>\n",
              "      <td>20.38</td>\n",
              "      <td>77.58</td>\n",
              "      <td>386.1</td>\n",
              "      <td>0.14250</td>\n",
              "      <td>0.28390</td>\n",
              "      <td>0.2414</td>\n",
              "      <td>0.10520</td>\n",
              "      <td>0.2597</td>\n",
              "      <td>...</td>\n",
              "      <td>26.50</td>\n",
              "      <td>98.87</td>\n",
              "      <td>567.7</td>\n",
              "      <td>0.2098</td>\n",
              "      <td>0.8663</td>\n",
              "      <td>0.6869</td>\n",
              "      <td>0.2575</td>\n",
              "      <td>0.6638</td>\n",
              "      <td>0.17300</td>\n",
              "      <td>NaN</td>\n",
              "    </tr>\n",
              "    <tr>\n",
              "      <th>84358402</th>\n",
              "      <td>M</td>\n",
              "      <td>20.29</td>\n",
              "      <td>14.34</td>\n",
              "      <td>135.10</td>\n",
              "      <td>1297.0</td>\n",
              "      <td>0.10030</td>\n",
              "      <td>0.13280</td>\n",
              "      <td>0.1980</td>\n",
              "      <td>0.10430</td>\n",
              "      <td>0.1809</td>\n",
              "      <td>...</td>\n",
              "      <td>16.67</td>\n",
              "      <td>152.20</td>\n",
              "      <td>1575.0</td>\n",
              "      <td>0.1374</td>\n",
              "      <td>0.2050</td>\n",
              "      <td>0.4000</td>\n",
              "      <td>0.1625</td>\n",
              "      <td>0.2364</td>\n",
              "      <td>0.07678</td>\n",
              "      <td>NaN</td>\n",
              "    </tr>\n",
              "  </tbody>\n",
              "</table>\n",
              "<p>5 rows × 32 columns</p>\n",
              "</div>"
            ],
            "text/plain": [
              "         diagnosis  radius_mean  texture_mean  perimeter_mean  area_mean  \\\n",
              "id                                                                         \n",
              "842302           M        17.99         10.38          122.80     1001.0   \n",
              "842517           M        20.57         17.77          132.90     1326.0   \n",
              "84300903         M        19.69         21.25          130.00     1203.0   \n",
              "84348301         M        11.42         20.38           77.58      386.1   \n",
              "84358402         M        20.29         14.34          135.10     1297.0   \n",
              "\n",
              "          smoothness_mean  compactness_mean  concavity_mean  \\\n",
              "id                                                            \n",
              "842302            0.11840           0.27760          0.3001   \n",
              "842517            0.08474           0.07864          0.0869   \n",
              "84300903          0.10960           0.15990          0.1974   \n",
              "84348301          0.14250           0.28390          0.2414   \n",
              "84358402          0.10030           0.13280          0.1980   \n",
              "\n",
              "          concave points_mean  symmetry_mean     ...       texture_worst  \\\n",
              "id                                               ...                       \n",
              "842302                0.14710         0.2419     ...               17.33   \n",
              "842517                0.07017         0.1812     ...               23.41   \n",
              "84300903              0.12790         0.2069     ...               25.53   \n",
              "84348301              0.10520         0.2597     ...               26.50   \n",
              "84358402              0.10430         0.1809     ...               16.67   \n",
              "\n",
              "          perimeter_worst  area_worst  smoothness_worst  compactness_worst  \\\n",
              "id                                                                           \n",
              "842302             184.60      2019.0            0.1622             0.6656   \n",
              "842517             158.80      1956.0            0.1238             0.1866   \n",
              "84300903           152.50      1709.0            0.1444             0.4245   \n",
              "84348301            98.87       567.7            0.2098             0.8663   \n",
              "84358402           152.20      1575.0            0.1374             0.2050   \n",
              "\n",
              "          concavity_worst  concave points_worst  symmetry_worst  \\\n",
              "id                                                                \n",
              "842302             0.7119                0.2654          0.4601   \n",
              "842517             0.2416                0.1860          0.2750   \n",
              "84300903           0.4504                0.2430          0.3613   \n",
              "84348301           0.6869                0.2575          0.6638   \n",
              "84358402           0.4000                0.1625          0.2364   \n",
              "\n",
              "          fractal_dimension_worst  Unnamed: 32  \n",
              "id                                              \n",
              "842302                    0.11890          NaN  \n",
              "842517                    0.08902          NaN  \n",
              "84300903                  0.08758          NaN  \n",
              "84348301                  0.17300          NaN  \n",
              "84358402                  0.07678          NaN  \n",
              "\n",
              "[5 rows x 32 columns]"
            ]
          },
          "metadata": {
            "tags": []
          },
          "execution_count": 9
        }
      ]
    },
    {
      "metadata": {
        "id": "hYMuTD6qxjIV",
        "colab_type": "text"
      },
      "cell_type": "markdown",
      "source": [
        "### Set up the Input and output, X and y\n",
        "\n",
        "Here we will use Xcancer and ycancer instead of X and y for the input features and output categories.\n",
        "\n",
        "This data set has 569 tumors with 30 features on each tumor, along with each tumor's category as Benign or Malignant.\n",
        "\n",
        "We will also scale the data so that all features are converted to the range of 0 to +1"
      ]
    },
    {
      "metadata": {
        "id": "dIugGoPnWGHZ",
        "colab_type": "code",
        "colab": {}
      },
      "cell_type": "code",
      "source": [
        "# === Select all the data for input ===\n",
        "Xcancer = cancer.iloc[:, 1:31] \n",
        "\n",
        "# The output is the diagnosis where M is Malignant and B is Benign\n",
        "ycancer = cancer['diagnosis'].values"
      ],
      "execution_count": 0,
      "outputs": []
    },
    {
      "metadata": {
        "id": "OstkEG5objwg",
        "colab_type": "code",
        "colab": {}
      },
      "cell_type": "code",
      "source": [
        "# Scale the data to put large features like area_mean on the same footing as small features like smoothness_mean\n",
        "scaler = StandardScaler()\n",
        "Xcancer = scaler.fit_transform(Xcancer)"
      ],
      "execution_count": 0,
      "outputs": []
    },
    {
      "metadata": {
        "id": "tqC1xeyix8R1",
        "colab_type": "text"
      },
      "cell_type": "markdown",
      "source": [
        "### Apply PCA with different number of components\n",
        "As before, we use the scikit learn library for the PCA method. In Section 0 we have imported the PCA libary from sklearn:\n",
        "```\n",
        "from sklearn.decomposition import PCA\n",
        "```\n",
        "Now we create a PCA system and specify the number of components or dimensions in the result. Then we use this PCA system to transform the data into the given number of components. Since we don't know which will be better, we will reduce the dimensions of the 30 input features to \n",
        "- **XcancerPCA1** which uses pca1 to reduce 30 features to just 1 component\n",
        "- **XcancerPCA3** which uses pca3 to reduce 30 features to just 3 components\n",
        "- **XcancerPCA5** which uses pca5 to reduce 30 features to just 5 components\n",
        "\n"
      ]
    },
    {
      "metadata": {
        "id": "VGyEY1aEWzjr",
        "colab_type": "code",
        "colab": {}
      },
      "cell_type": "code",
      "source": [
        "pca1 = PCA(n_components=1)\n",
        "XcancerPCA1 = pca1.fit_transform(Xcancer)\n",
        "\n",
        "pca3 = PCA(n_components=3)\n",
        "XcancerPCA3 = pca3.fit_transform(Xcancer)\n",
        "\n",
        "pca5 = PCA(n_components=5)\n",
        "XcancerPCA5 = pca5.fit_transform(Xcancer)"
      ],
      "execution_count": 0,
      "outputs": []
    },
    {
      "metadata": {
        "id": "dRcv6PC3RQJN",
        "colab_type": "code",
        "colab": {}
      },
      "cell_type": "code",
      "source": [
        "# We will not split the data into training and testing for this activity \n",
        "\n",
        "# Split the data into 80% for training and 20% for testing out the models\n",
        "# Xcancer_train, Xcancer_test, ycancer_train, ycancer_test = train_test_split(Xcancer, ycancer.ravel(), test_size=0.2)\n",
        "# XcancerPCA5_train, XcancerPCA5_test, ycancerPCA5_train, ycancerPCA5_test = train_test_split(XcancerPCA5, ycancer.ravel(), test_size=0.2)\n"
      ],
      "execution_count": 0,
      "outputs": []
    },
    {
      "metadata": {
        "colab_type": "text",
        "id": "wwEfdxzUFS-p"
      },
      "cell_type": "markdown",
      "source": [
        "## Task 2: Test K-Nearest Neighbors\n",
        "\n",
        "The code below runs KNN using the three closest neighbors. It uses KNN on:\n",
        "- The original data with 30 features, Xcancer\n",
        "- Data reduced to 1 component with PCA, XcancerPCA1\n",
        "- Data reduced to 3 component with PCA, XcancerPCA3\n",
        "- Data reduced to 5 component with PCA, XcancerPCA5\n",
        "\n",
        "\n",
        " ### Analyze at the scores\n",
        " - How close were the scores?\n",
        " - Did PCA improve the scores?\n",
        " - If PCA did not improve the scores, would it reduce the memory or time needed to run the KNN algorithm?\n",
        "---\n"
      ]
    },
    {
      "metadata": {
        "colab_type": "code",
        "outputId": "b71b4432-b913-426f-fdfe-4140215f08a1",
        "id": "8MbEv7J1FRyJ",
        "colab": {
          "base_uri": "https://localhost:8080/",
          "height": 55
        }
      },
      "cell_type": "code",
      "source": [
        "# Run KNN on original data with 30 features\n",
        "knn_model = KNeighborsClassifier(n_neighbors=3)\n",
        "knn_model.fit(Xcancer, ycancer)\n",
        "score = knn_model.score(Xcancer, ycancer)\n",
        "print (\"The score for this model is \", format(score, \",.2f\"))"
      ],
      "execution_count": 13,
      "outputs": [
        {
          "output_type": "stream",
          "text": [
            "The score for this model is  0.98\n"
          ],
          "name": "stdout"
        }
      ]
    },
    {
      "metadata": {
        "colab_type": "code",
        "outputId": "e20d7fad-5afc-44b9-a852-e74baba18f69",
        "id": "FNev4yfpFRxv",
        "colab": {
          "base_uri": "https://localhost:8080/",
          "height": 55
        }
      },
      "cell_type": "code",
      "source": [
        "# Run KNN on data reduced to 1 component, XcancerPCA1\n",
        "knn_model = KNeighborsClassifier(n_neighbors=3)\n",
        "knn_model.fit(XcancerPCA1, ycancer)\n",
        "score = knn_model.score(XcancerPCA1, ycancer)\n",
        "print (\"The score for this model is \", format(score, \",.2f\"))"
      ],
      "execution_count": 14,
      "outputs": [
        {
          "output_type": "stream",
          "text": [
            "The score for this model is  0.94\n"
          ],
          "name": "stdout"
        }
      ]
    },
    {
      "metadata": {
        "colab_type": "code",
        "outputId": "55a90081-4693-40e9-963c-b3c2563f62f4",
        "id": "zBL7SHpF7csL",
        "colab": {
          "base_uri": "https://localhost:8080/",
          "height": 55
        }
      },
      "cell_type": "code",
      "source": [
        "# Run KNN on data reduced to 3 component, XcancerPCA3\n",
        "knn_model2 = KNeighborsClassifier(n_neighbors=3)\n",
        "knn_model2.fit(XcancerPCA3, ycancer)\n",
        "score = knn_model2.score(XcancerPCA3, ycancer)\n",
        "print (\"The score for this model is \", format(score, \",.2f\"))"
      ],
      "execution_count": 15,
      "outputs": [
        {
          "output_type": "stream",
          "text": [
            "The score for this model is  0.97\n"
          ],
          "name": "stdout"
        }
      ]
    },
    {
      "metadata": {
        "colab_type": "code",
        "outputId": "eb6ba847-43ad-4315-b033-af7ea93beddc",
        "id": "3cGGSpv67cYL",
        "colab": {
          "base_uri": "https://localhost:8080/",
          "height": 55
        }
      },
      "cell_type": "code",
      "source": [
        "# Run KNN on data reduced to 5 component, XcancerPCA5\n",
        "knn_model2 = KNeighborsClassifier(n_neighbors=3)\n",
        "knn_model2.fit(XcancerPCA5, ycancer)\n",
        "score = knn_model2.score(XcancerPCA5, ycancer)\n",
        "print (\"The score for this model is \", format(score, \",.2f\"))"
      ],
      "execution_count": 16,
      "outputs": [
        {
          "output_type": "stream",
          "text": [
            "The score for this model is  0.98\n"
          ],
          "name": "stdout"
        }
      ]
    },
    {
      "metadata": {
        "id": "zZJk_Ve1vNl5",
        "colab_type": "text"
      },
      "cell_type": "markdown",
      "source": [
        "## Task 3: Test Support Vector Machines (SVM)\n",
        "\n",
        "The code below runs SVM on:\n",
        "- The original data with 30 features, Xcancer\n",
        "- Data reduced to 1 component with PCA, XcancerPCA1\n",
        "- Data reduced to 3 component with PCA, XcancerPCA3\n",
        "- Data reduced to 5 component with PCA, XcancerPCA5\n",
        "\n",
        "\n",
        " ### Analyze at the scores\n",
        " - How close were the scores?\n",
        " - Did PCA improve the scores?\n",
        " - If PCA did not improve the scores, would it reduce the memory or time needed to run the KNN algorithm?\n",
        "---\n"
      ]
    },
    {
      "metadata": {
        "id": "qdKh2VwCaYbE",
        "colab_type": "code",
        "outputId": "5bab840b-741b-4472-e84b-b415b76cbd0d",
        "colab": {
          "base_uri": "https://localhost:8080/",
          "height": 55
        }
      },
      "cell_type": "code",
      "source": [
        "# Set up SVM model with a given kernel and c parameter\n",
        "svm_model = SVC(C=1.0, kernel='linear')          # linear SVM\n",
        "svm_model.fit(Xcancer, ycancer)\n",
        "score = svm_model.score(Xcancer, ycancer)\n",
        "print (\"The score for this model is \", format(score, \",.2f\"))"
      ],
      "execution_count": 17,
      "outputs": [
        {
          "output_type": "stream",
          "text": [
            "The score for this model is  0.99\n"
          ],
          "name": "stdout"
        }
      ]
    },
    {
      "metadata": {
        "id": "inkGm8JNbGLp",
        "colab_type": "code",
        "outputId": "ad4e903c-de9a-4fed-a039-cd1875d356de",
        "colab": {
          "base_uri": "https://localhost:8080/",
          "height": 55
        }
      },
      "cell_type": "code",
      "source": [
        "# Run SVM on data reduced to 1 component, XcancerPCA1\n",
        "svm_model = SVC(C=1.0, kernel='linear')          # linear SVM\n",
        "svm_model.fit(XcancerPCA1, ycancer)\n",
        "score = svm_model.score(XcancerPCA1, ycancer)\n",
        "print (\"The score for this model is \", format(score, \",.2f\"))"
      ],
      "execution_count": 18,
      "outputs": [
        {
          "output_type": "stream",
          "text": [
            "The score for this model is  0.91\n"
          ],
          "name": "stdout"
        }
      ]
    },
    {
      "metadata": {
        "id": "b6UURqDJQcNG",
        "colab_type": "code",
        "outputId": "4ad6692e-0f62-47b3-d08b-499d3f14d363",
        "colab": {
          "base_uri": "https://localhost:8080/",
          "height": 55
        }
      },
      "cell_type": "code",
      "source": [
        "# Run SVM on data reduced to 3 component, XcancerPCA3\n",
        "svm_model = SVC(C=1.0, kernel='linear')          # linear SVM\n",
        "svm_model.fit(XcancerPCA3, ycancer)\n",
        "score = svm_model.score(XcancerPCA3, ycancer)\n",
        "print (\"The score for this model is \", format(score, \",.2f\"))"
      ],
      "execution_count": 19,
      "outputs": [
        {
          "output_type": "stream",
          "text": [
            "The score for this model is  0.96\n"
          ],
          "name": "stdout"
        }
      ]
    },
    {
      "metadata": {
        "id": "c4kCM_CfQdTj",
        "colab_type": "code",
        "outputId": "63a07540-8c57-423d-ba9b-01f13938a4c5",
        "colab": {
          "base_uri": "https://localhost:8080/",
          "height": 55
        }
      },
      "cell_type": "code",
      "source": [
        "# Run SVM on data reduced to 5 component, XcancerPCA5\n",
        "svm_model = SVC(C=1.0, kernel='linear')          # linear SVM\n",
        "svm_model.fit(XcancerPCA5, ycancer)\n",
        "score = svm_model.score(XcancerPCA5, ycancer)\n",
        "print (\"The score for this model is \", format(score, \",.2f\"))"
      ],
      "execution_count": 20,
      "outputs": [
        {
          "output_type": "stream",
          "text": [
            "The score for this model is  0.98\n"
          ],
          "name": "stdout"
        }
      ]
    },
    {
      "metadata": {
        "id": "mEuPVnRDdGpu",
        "colab_type": "text"
      },
      "cell_type": "markdown",
      "source": [
        "# Section III \n",
        "=== *You must run Section 0 before this section* ===\n",
        "### MNIST hand written digits\n",
        "\n",
        "We will load the MNIST data set built into the scikit learning library.\n",
        "\n",
        "The images are 16x16 pixels which means each image has 64 features. This is now getting large enought so that dimensional reduction might be useful.\n",
        "\n"
      ]
    },
    {
      "metadata": {
        "id": "immCZPJqcvgE",
        "colab_type": "code",
        "colab": {}
      },
      "cell_type": "code",
      "source": [
        "# The digits dataset from the SciKit Learn sample data sets\n",
        "digits = datasets.load_digits()"
      ],
      "execution_count": 0,
      "outputs": []
    },
    {
      "metadata": {
        "id": "WEn_Br5whG4o",
        "colab_type": "code",
        "outputId": "72922de7-a3c2-4c5b-8e0e-9bba376c9843",
        "colab": {
          "base_uri": "https://localhost:8080/",
          "height": 207
        }
      },
      "cell_type": "code",
      "source": [
        "# Display the first five images\n",
        "# This code is from https://www.codementor.io/mgalarny/making-your-first-machine-learning-classifier-in-scikit-learn-python-db7d7iqdh\n",
        "plt.figure(figsize=(10,4))\n",
        "for index, (image, label) in enumerate(zip(digits.data[0:5], digits.target[0:5])):\n",
        "    plt.subplot(1, 5, index + 1)\n",
        "    plt.imshow(np.reshape(image, (8,8)), cmap=plt.cm.gray)\n",
        "    plt.title('Training: %i\\n' % label, fontsize = 20)\n"
      ],
      "execution_count": 22,
      "outputs": [
        {
          "output_type": "display_data",
          "data": {
            "image/png": "[encoded data removed]",
            "text/plain": [
              "<Figure size 720x288 with 5 Axes>"
            ]
          },
          "metadata": {
            "tags": []
          }
        }
      ]
    },
    {
      "metadata": {
        "id": "2OZWmBNxcvk4",
        "colab_type": "code",
        "colab": {}
      },
      "cell_type": "code",
      "source": [
        "# Set up the training input, X, and output, y\n",
        "\n",
        "Xdigits = digits.data\n",
        "ydigits = digits.target"
      ],
      "execution_count": 0,
      "outputs": []
    },
    {
      "metadata": {
        "id": "prHBOH8Ocvda",
        "colab_type": "code",
        "colab": {}
      },
      "cell_type": "code",
      "source": [
        "# We will not split the data into training and testing to keep this simple\n",
        "\n",
        "# Split the data into 80% for training and 20% for testing out the models\n",
        "# Xdigits_train, Xdigits_test, ydigits_train, ydigits_test = train_test_split(Xdigits, ydigits.ravel(), test_size=0.2)\n",
        "\n"
      ],
      "execution_count": 0,
      "outputs": []
    },
    {
      "metadata": {
        "id": "Vhmql7I4GNVu",
        "colab_type": "text"
      },
      "cell_type": "markdown",
      "source": [
        "## Task 4: SVM with MNIST digits\n",
        "\n",
        "Using all 64 pixels, Support Vector Machines can recognize the correct digit from an MNIST image nearly 100% of the time. \n",
        "\n",
        "Use the two code blocks below to try different number of components which still reduces the featues significantly while keeping prediction scores relatively high. In the starting example, reducing the 64 features to only 3 components reduces the score a lot to only 72%\n",
        "\n",
        "\n",
        " ### Find a good balance \n",
        " - Find a good balance between the number of components and the prediction score. What value for n_components results in a good score while still reducing the number of features significantly?\n",
        " \n",
        "---\n"
      ]
    },
    {
      "metadata": {
        "id": "Aw_65odwA8au",
        "colab_type": "code",
        "colab": {}
      },
      "cell_type": "code",
      "source": [
        "# Use PCA to reduce the data to just a few components\n",
        "pca3 = PCA(n_components=3)\n",
        "XdigitPCA3 = pca3.fit_transform(Xdigits)"
      ],
      "execution_count": 0,
      "outputs": []
    },
    {
      "metadata": {
        "id": "DvaX1kwIdZdH",
        "colab_type": "code",
        "outputId": "27817e4f-d13f-44ff-dcef-0bcaed90e2ce",
        "colab": {
          "base_uri": "https://localhost:8080/",
          "height": 55
        }
      },
      "cell_type": "code",
      "source": [
        "# Run SVM on data reduced to 3 component, XcancerPCA3\n",
        "svm_model = SVC(C=1.0, kernel='linear')          # linear SVM\n",
        "svm_model.fit(XdigitPCA3, ydigits)\n",
        "score = svm_model.score(XdigitPCA3, ydigits)\n",
        "print (\"The score for this model is \", format(score, \",.2f\"))"
      ],
      "execution_count": 25,
      "outputs": [
        {
          "output_type": "stream",
          "text": [
            "The score for this model is  0.72\n"
          ],
          "name": "stdout"
        }
      ]
    },
    {
      "metadata": {
        "id": "z7mhlIt-Hwem",
        "colab_type": "text"
      },
      "cell_type": "markdown",
      "source": [
        "## Task 5: PCA for noise reduction\n",
        "\n",
        "Read the section on [PCA as Noise Filtering](https://jakevdp.github.io/PythonDataScienceHandbook/05.09-principal-component-analysis.html#PCA-as-Noise-Filtering) from In Depth: Principal Component Analysis in the Python Data Science Handbook\n",
        "\n",
        "\n",
        " ### Summarize \n",
        " - In a couple sentences, summarize this section of the article.\n",
        " \n",
        "---\n"
      ]
    },
    {
      "metadata": {
        "id": "RUzZntKj1QFz",
        "colab_type": "text"
      },
      "cell_type": "markdown",
      "source": [
        "# Wrapping Up\n",
        "\n",
        "Remember to **share this sheet with your instructo**r and submit a link to it in Blackboard."
      ]
    },
    {
      "metadata": {
        "id": "hNmZlPcKWv12",
        "colab_type": "code",
        "colab": {}
      },
      "cell_type": "code",
      "source": [
        ""
      ],
      "execution_count": 0,
      "outputs": []
    }
  ]
}